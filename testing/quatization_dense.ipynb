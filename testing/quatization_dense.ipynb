{
 "cells": [
  {
   "cell_type": "markdown",
   "metadata": {},
   "source": [
    "# Description\n",
    "\n",
    "This notobook simply demonstrades how to perform the Post-Traning-Quantization technique on the Cifar-10 dataset."
   ]
  },
  {
   "cell_type": "code",
   "execution_count": 8,
   "metadata": {},
   "outputs": [],
   "source": [
    "import os\n",
    "os.environ['TF_CPP_MIN_LOG_LEVEL'] = '2' \n",
    "import random\n",
    "random.seed(42)\n",
    "import tensorflow as tf\n",
    "gpus = tf.config.list_physical_devices('GPU')\n",
    "if gpus:\n",
    "    try: tf.config.experimental.set_memory_growth(gpus[0], True)\n",
    "    except RuntimeError as e:   print(e)\n",
    "\n",
    "import numpy as np\n",
    "import pandas as pd\n",
    "import matplotlib.pyplot as plt\n",
    "from sklearn.model_selection import train_test_split\n",
    "from sklearn.metrics import classification_report, accuracy_score\n",
    "\n",
    "from tensorflow.keras.layers import Layer\n",
    "from tensorflow.keras.models import Sequential\n",
    "from tensorflow.keras.layers import Input, Dense, Flatten, Conv2D, MaxPooling2D, Dropout\n",
    "from tensorflow.keras.utils import to_categorical\n",
    "\n",
    "import sys\n",
    "sys.path.append('../')\n",
    "from utils.quantization_utils import *"
   ]
  },
  {
   "cell_type": "markdown",
   "metadata": {},
   "source": [
    "# 1. Normal training"
   ]
  },
  {
   "cell_type": "code",
   "execution_count": 7,
   "metadata": {},
   "outputs": [],
   "source": [
    "(x_train, y_train), (x_test, y_test) = tf.keras.datasets.cifar10.load_data()\n",
    "\n",
    "x_train, x_test = x_train / 255.0, x_test / 255.0\n",
    "\n",
    "y_train = to_categorical(y_train, 10)\n",
    "y_test = to_categorical(y_test, 10)"
   ]
  },
  {
   "cell_type": "code",
   "execution_count": 10,
   "metadata": {},
   "outputs": [
    {
     "name": "stdout",
     "output_type": "stream",
     "text": [
      "Model: \"sequential\"\n",
      "_________________________________________________________________\n",
      " Layer (type)                Output Shape              Param #   \n",
      "=================================================================\n",
      " flatten (Flatten)           (None, 3072)              0         \n",
      "                                                                 \n",
      " dense (Dense)               (None, 128)               393344    \n",
      "                                                                 \n",
      " dense_1 (Dense)             (None, 10)                1290      \n",
      "                                                                 \n",
      "=================================================================\n",
      "Total params: 394634 (1.51 MB)\n",
      "Trainable params: 394634 (1.51 MB)\n",
      "Non-trainable params: 0 (0.00 Byte)\n",
      "_________________________________________________________________\n"
     ]
    }
   ],
   "source": [
    "tf.keras.backend.clear_session()\n",
    "model = Sequential([\n",
    "    Input(shape=(32, 32, 3)),\n",
    "    Flatten(), \n",
    "    Dense(128, activation='relu'),\n",
    "    Dense(10, activation='softmax')  # Output layer for 10 classes\n",
    "])\n",
    "\n",
    "model.compile(optimizer='adam', loss='categorical_crossentropy', metrics=['accuracy'])\n",
    "model.summary()"
   ]
  },
  {
   "cell_type": "code",
   "execution_count": 11,
   "metadata": {},
   "outputs": [
    {
     "name": "stdout",
     "output_type": "stream",
     "text": [
      "Epoch 1/20\n",
      "782/782 [==============================] - 1s 1ms/step - loss: 1.9178 - accuracy: 0.3187 - val_loss: 1.7930 - val_accuracy: 0.3632\n",
      "Epoch 2/20\n",
      "782/782 [==============================] - 1s 946us/step - loss: 1.7697 - accuracy: 0.3762 - val_loss: 1.7681 - val_accuracy: 0.3667\n",
      "Epoch 3/20\n",
      "782/782 [==============================] - 1s 953us/step - loss: 1.7031 - accuracy: 0.3956 - val_loss: 1.7520 - val_accuracy: 0.3688\n",
      "Epoch 4/20\n",
      "782/782 [==============================] - 1s 943us/step - loss: 1.6674 - accuracy: 0.4089 - val_loss: 1.6976 - val_accuracy: 0.4041\n",
      "Epoch 5/20\n",
      "782/782 [==============================] - 1s 959us/step - loss: 1.6330 - accuracy: 0.4232 - val_loss: 1.6673 - val_accuracy: 0.4100\n",
      "Epoch 6/20\n",
      "782/782 [==============================] - 1s 972us/step - loss: 1.6125 - accuracy: 0.4305 - val_loss: 1.6551 - val_accuracy: 0.4146\n",
      "Epoch 7/20\n",
      "782/782 [==============================] - 1s 1ms/step - loss: 1.5946 - accuracy: 0.4336 - val_loss: 1.5858 - val_accuracy: 0.4371\n",
      "Epoch 8/20\n",
      "782/782 [==============================] - 1s 966us/step - loss: 1.5717 - accuracy: 0.4409 - val_loss: 1.6488 - val_accuracy: 0.4124\n",
      "Epoch 9/20\n",
      "782/782 [==============================] - 1s 1ms/step - loss: 1.5618 - accuracy: 0.4445 - val_loss: 1.5983 - val_accuracy: 0.4263\n",
      "Epoch 10/20\n",
      "782/782 [==============================] - 1s 1ms/step - loss: 1.5451 - accuracy: 0.4492 - val_loss: 1.5698 - val_accuracy: 0.4424\n",
      "Epoch 11/20\n",
      "782/782 [==============================] - 1s 996us/step - loss: 1.5336 - accuracy: 0.4563 - val_loss: 1.5767 - val_accuracy: 0.4331\n",
      "Epoch 12/20\n",
      "782/782 [==============================] - 1s 976us/step - loss: 1.5269 - accuracy: 0.4552 - val_loss: 1.5721 - val_accuracy: 0.4485\n",
      "Epoch 13/20\n",
      "782/782 [==============================] - 1s 979us/step - loss: 1.5160 - accuracy: 0.4594 - val_loss: 1.5575 - val_accuracy: 0.4472\n",
      "Epoch 14/20\n",
      "782/782 [==============================] - 1s 938us/step - loss: 1.5093 - accuracy: 0.4613 - val_loss: 1.5914 - val_accuracy: 0.4262\n",
      "Epoch 15/20\n",
      "782/782 [==============================] - 1s 995us/step - loss: 1.4982 - accuracy: 0.4672 - val_loss: 1.5446 - val_accuracy: 0.4502\n",
      "Epoch 16/20\n",
      "782/782 [==============================] - 1s 971us/step - loss: 1.4916 - accuracy: 0.4693 - val_loss: 1.5279 - val_accuracy: 0.4583\n",
      "Epoch 17/20\n",
      "782/782 [==============================] - 1s 965us/step - loss: 1.4910 - accuracy: 0.4671 - val_loss: 1.5534 - val_accuracy: 0.4471\n",
      "Epoch 18/20\n",
      "782/782 [==============================] - 1s 970us/step - loss: 1.4807 - accuracy: 0.4711 - val_loss: 1.5374 - val_accuracy: 0.4570\n",
      "Epoch 19/20\n",
      "782/782 [==============================] - 1s 1ms/step - loss: 1.4801 - accuracy: 0.4727 - val_loss: 1.5277 - val_accuracy: 0.4574\n",
      "Epoch 20/20\n",
      "782/782 [==============================] - 1s 1ms/step - loss: 1.4767 - accuracy: 0.4747 - val_loss: 1.5605 - val_accuracy: 0.4476\n",
      "313/313 [==============================] - 0s 381us/step\n",
      "\n",
      "Accuracy: 0.4476\n"
     ]
    }
   ],
   "source": [
    "history = model.fit(x_train, y_train, epochs=20, batch_size=64, validation_data=(x_test, y_test))\n",
    "\n",
    "y_pred = model.predict(x_test)\n",
    "y_pred = np.argmax(y_pred, axis=1)\n",
    "\n",
    "print()\n",
    "accuracy = accuracy_score(np.argmax(y_test, axis=1), y_pred)\n",
    "print(f'Accuracy: {accuracy}')"
   ]
  },
  {
   "cell_type": "markdown",
   "metadata": {},
   "source": [
    "# 2. Post-Training Quantization\n",
    "\n",
    "In this section, we will implement the **asymmetric** quantization."
   ]
  },
  {
   "cell_type": "code",
   "execution_count": 9,
   "metadata": {},
   "outputs": [],
   "source": [
    "LIST_LABEL = ['airplane', 'automobile', 'bird', 'cat', 'deer', 'dog', 'frog', 'horse', 'ship', 'truck']\n",
    "(x_train, y_train), (x_test, y_test) = tf.keras.datasets.cifar10.load_data()\n",
    "\n",
    "x_train, x_test = x_train / 255.0, x_test / 255.0\n",
    "\n",
    "y_train = to_categorical(y_train, 10)\n",
    "y_test = to_categorical(y_test, 10)"
   ]
  },
  {
   "cell_type": "code",
   "execution_count": null,
   "metadata": {},
   "outputs": [],
   "source": [
    "# Custom Dense Layer for asymmetric quantization\n",
    "class CustomDense(Layer):\n",
    "    def __init__(self, units, activation=None, quantized_type=tf.int8):\n",
    "        super(CustomDense, self).__init__()\n",
    "        self.units = units\n",
    "        self.activation = tf.keras.activations.get(activation)\n",
    "        self.quantized_type = quantized_type\n",
    "\n",
    "\n",
    "    def build(self, input_shape):\n",
    "        # Initialize weights and bias\n",
    "        self.w = self.add_weight(shape=(input_shape[-1], self.units), initializer='random_normal', trainable=True)\n",
    "        self.b = self.add_weight(shape=(self.units,), initializer='random_normal', trainable=True)\n",
    "\n",
    "        self.w_quantized = self.add_weight(shape=(input_shape[-1], self.units), dtype=self.quantized_type, initializer='zeros', trainable=False)\n",
    "        self.quantized_scale = self.add_weight(shape=(), initializer='ones', trainable=False)\n",
    "        self.zero_point = self.add_weight(shape=(), initializer='ones', trainable=False)\n",
    "\n",
    "        super(CustomDense, self).build(input_shape)  # Be sure to call this at the end\n",
    "\n",
    "\n",
    "    def post_training_quantization(self):\n",
    "        \"\"\"\n",
    "        Function to quantize the weights. This function MUST be called after FINISH training.\n",
    "        \"\"\"\n",
    "\n",
    "        w_quantized, quantized_scale, zero_point = get_asymmetric_quantize_matrix(self.w, target_dtype=self.quantized_type)\n",
    "\n",
    "        self.w_quantized.assign(w_quantized)\n",
    "        self.quantized_scale.assign(quantized_scale)\n",
    "        self.zero_point.assign(zero_point)\n",
    "\n",
    "        del self.w\n",
    "\n",
    "    def call(self, inputs):\n",
    "        if hasattr(self, 'w'):  # Linear transformation\n",
    "            z = tf.matmul(inputs, self.w) + self.b  \n",
    "        else:\n",
    "            # De-quantize the weights\n",
    "            w_dequantized = tf.cast(self.w_quantized, tf.float32) - self.zero_point\n",
    "            w_dequantized = tf.multiply(w_dequantized, self.quantized_scale)\n",
    "            z = tf.matmul(inputs, w_dequantized) + self.b\n",
    "\n",
    "        if self.activation:\n",
    "            z = self.activation(z)  \n",
    "        return z  \n",
    "    \n",
    "\n",
    "class Post_Quantization_Callback(tf.keras.callbacks.Callback):\n",
    "    def __init__(self):\n",
    "        super(Post_Quantization_Callback, self).__init__()\n",
    "\n",
    "    def on_train_end(self, logs=None):\n",
    "        self.quantization_layer()\n",
    "\n",
    "    def quantization_layer(self):\n",
    "        for layer in self.model.submodules:\n",
    "            if isinstance(layer, CustomDense):\n",
    "                layer.post_training_quantization()"
   ]
  },
  {
   "cell_type": "code",
   "execution_count": 11,
   "metadata": {},
   "outputs": [
    {
     "name": "stdout",
     "output_type": "stream",
     "text": [
      "Model: \"sequential\"\n",
      "_________________________________________________________________\n",
      " Layer (type)                Output Shape              Param #   \n",
      "=================================================================\n",
      " flatten (Flatten)           (None, 3072)              0         \n",
      "                                                                 \n",
      " custom_dense (CustomDense)  (None, 128)               786562    \n",
      "                                                                 \n",
      " custom_dense_1 (CustomDens  (None, 10)                2572      \n",
      " e)                                                              \n",
      "                                                                 \n",
      "=================================================================\n",
      "Total params: 789134 (1.88 MB)\n",
      "Trainable params: 394634 (1.51 MB)\n",
      "Non-trainable params: 394500 (385.27 KB)\n",
      "_________________________________________________________________\n"
     ]
    }
   ],
   "source": [
    "tf.keras.backend.clear_session()\n",
    "model_2 = Sequential([\n",
    "    Input(shape=(32, 32, 3)),\n",
    "    Flatten(),  \n",
    "    CustomDense(128, activation='relu'),  \n",
    "    CustomDense(10, activation='softmax') \n",
    "])\n",
    "\n",
    "model_2.summary()"
   ]
  },
  {
   "cell_type": "code",
   "execution_count": 12,
   "metadata": {},
   "outputs": [
    {
     "name": "stdout",
     "output_type": "stream",
     "text": [
      "Epoch 1/10\n",
      "1563/1563 [==============================] - 2s 829us/step - loss: 1.8593 - accuracy: 0.3292\n",
      "Epoch 2/10\n",
      "1563/1563 [==============================] - 1s 784us/step - loss: 1.7091 - accuracy: 0.3883\n",
      "Epoch 3/10\n",
      "1563/1563 [==============================] - 1s 776us/step - loss: 1.6549 - accuracy: 0.4114\n",
      "Epoch 4/10\n",
      "1563/1563 [==============================] - 1s 768us/step - loss: 1.6150 - accuracy: 0.4223\n",
      "Epoch 5/10\n",
      "1563/1563 [==============================] - 1s 767us/step - loss: 1.5809 - accuracy: 0.4375\n",
      "Epoch 6/10\n",
      "1563/1563 [==============================] - 1s 783us/step - loss: 1.5618 - accuracy: 0.4421\n",
      "Epoch 7/10\n",
      "1563/1563 [==============================] - 1s 788us/step - loss: 1.5424 - accuracy: 0.4519\n",
      "Epoch 8/10\n",
      "1563/1563 [==============================] - 1s 791us/step - loss: 1.5249 - accuracy: 0.4560\n",
      "Epoch 9/10\n",
      "1563/1563 [==============================] - 1s 784us/step - loss: 1.5126 - accuracy: 0.4609\n",
      "Epoch 10/10\n",
      "1563/1563 [==============================] - 1s 762us/step - loss: 1.5004 - accuracy: 0.4665\n"
     ]
    },
    {
     "data": {
      "text/plain": [
       "<keras.src.callbacks.History at 0x7f835c58a1d0>"
      ]
     },
     "execution_count": 12,
     "metadata": {},
     "output_type": "execute_result"
    }
   ],
   "source": [
    "model_2.compile(optimizer='adam',\n",
    "              loss='categorical_crossentropy',\n",
    "              metrics=['accuracy'])\n",
    "\n",
    "callbacks = [\n",
    "    Post_Quantization_Callback()\n",
    "]\n",
    "\n",
    "model_2.fit(x_train, y_train, epochs=10, callbacks=callbacks)"
   ]
  },
  {
   "cell_type": "code",
   "execution_count": 13,
   "metadata": {},
   "outputs": [
    {
     "name": "stdout",
     "output_type": "stream",
     "text": [
      "313/313 [==============================] - 0s 399us/step\n",
      "\n",
      "Accuracy: 0.4466\n"
     ]
    }
   ],
   "source": [
    "y_pred = model_2.predict(x_test)\n",
    "y_pred = np.argmax(y_pred, axis=1)\n",
    "\n",
    "print()\n",
    "accuracy = accuracy_score(np.argmax(y_test, axis=1), y_pred)\n",
    "print(f'Accuracy: {accuracy}')"
   ]
  },
  {
   "cell_type": "code",
   "execution_count": 14,
   "metadata": {},
   "outputs": [
    {
     "name": "stdout",
     "output_type": "stream",
     "text": [
      "1/1 [==============================] - 0s 8ms/step\n"
     ]
    },
    {
     "data": {
      "image/png": "[encoded data removed]",
      "text/plain": [
       "<Figure size 640x480 with 1 Axes>"
      ]
     },
     "metadata": {},
     "output_type": "display_data"
    }
   ],
   "source": [
    "idx = np.random.randint(0, x_test.shape[0])\n",
    "img = x_test[idx]\n",
    "img = np.expand_dims(img, axis=0)\n",
    "pred = model_2.predict(img)\n",
    "pred = np.argmax(pred, axis=1)\n",
    "\n",
    "pred_label = LIST_LABEL[pred[0]]\n",
    "\n",
    "plt.imshow(x_test[idx])\n",
    "plt.title(f'Predicted: {pred_label}');\n"
   ]
  },
  {
   "cell_type": "code",
   "execution_count": null,
   "metadata": {},
   "outputs": [],
   "source": []
  },
  {
   "cell_type": "code",
   "execution_count": null,
   "metadata": {},
   "outputs": [],
   "source": []
  }
 ],
 "metadata": {
  "kernelspec": {
   "display_name": "ds_env",
   "language": "python",
   "name": "python3"
  },
  "language_info": {
   "codemirror_mode": {
    "name": "ipython",
    "version": 3
   },
   "file_extension": ".py",
   "mimetype": "text/x-python",
   "name": "python",
   "nbconvert_exporter": "python",
   "pygments_lexer": "ipython3",
   "version": "3.10.13"
  }
 },
 "nbformat": 4,
 "nbformat_minor": 2
}
