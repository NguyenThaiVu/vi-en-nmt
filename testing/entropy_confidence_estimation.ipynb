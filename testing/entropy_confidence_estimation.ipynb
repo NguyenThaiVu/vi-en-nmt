{
 "cells": [
  {
   "cell_type": "markdown",
   "metadata": {},
   "source": [
    "# Description\n",
    "\n",
    "In this notebook, I will explore the uncertainty using entropy. Intuition:\n",
    "- Low entropy (low uncertainty) => High confidence\n",
    "- High entropy => Low confidence"
   ]
  },
  {
   "cell_type": "code",
   "execution_count": 2,
   "metadata": {},
   "outputs": [],
   "source": [
    "import numpy as np"
   ]
  },
  {
   "cell_type": "code",
   "execution_count": 7,
   "metadata": {},
   "outputs": [],
   "source": [
    "def calculate_entropy(prob_distribution, epsilon=1e-9):\n",
    "    \"\"\"\n",
    "    Calculate the entropy of a probability distribution.\n",
    "    \n",
    "    Parameters:\n",
    "    - prob_distribution (list or numpy array): A list or array containing probabilities for each possible word in the vocabulary.\n",
    "    \n",
    "    Returns:\n",
    "    - entropy (float): The entropy of the distribution, indicating the uncertainty/confidence of the prediction.\n",
    "    \"\"\"\n",
    "    if type(prob_distribution) != np.ndarray:\n",
    "        prob_distribution = np.array(prob_distribution)\n",
    "    entropy = -np.sum(prob_distribution * np.log(prob_distribution + epsilon))\n",
    "    return entropy"
   ]
  },
  {
   "cell_type": "code",
   "execution_count": 10,
   "metadata": {},
   "outputs": [
    {
     "name": "stdout",
     "output_type": "stream",
     "text": [
      "Entropy: 0.4868\n",
      "Prediction is confident\n"
     ]
    }
   ],
   "source": [
    "ENTROPY_THRESHOLD = 0.5\n",
    "\n",
    "prob_distribution = [0.9, 0.03, 0.03, 0.01, 0.01, 0.005, 0.015]  # Example probability distribution for a predicted word\n",
    "entropy = calculate_entropy(prob_distribution)\n",
    "print(f\"Entropy: {entropy:.4f}\")\n",
    "\n",
    "if entropy < ENTROPY_THRESHOLD:\n",
    "    print(\"Prediction is confident\")\n",
    "else:\n",
    "    print(\"Prediction is uncertain\")"
   ]
  },
  {
   "cell_type": "code",
   "execution_count": null,
   "metadata": {},
   "outputs": [],
   "source": []
  },
  {
   "cell_type": "code",
   "execution_count": null,
   "metadata": {},
   "outputs": [],
   "source": []
  }
 ],
 "metadata": {
  "kernelspec": {
   "display_name": "ds_env",
   "language": "python",
   "name": "python3"
  },
  "language_info": {
   "codemirror_mode": {
    "name": "ipython",
    "version": 3
   },
   "file_extension": ".py",
   "mimetype": "text/x-python",
   "name": "python",
   "nbconvert_exporter": "python",
   "pygments_lexer": "ipython3",
   "version": "3.10.13"
  }
 },
 "nbformat": 4,
 "nbformat_minor": 2
}
