{
 "cells": [
  {
   "cell_type": "markdown",
   "metadata": {},
   "source": [
    "# Description\n",
    "\n",
    "In this notebook, we will build the **Machine Translation** from English to Vietnamese.\n",
    "\n",
    "After the training process finish, we implement the **Post-Training-Quantization** to compress the trained model.\n",
    "\n",
    "**NOTE**: to choose the quantization type, such as QUANTIZED_TYPE (int8, uint8, float16) or QUANTIZED_TECHNIQUE (symmetric or asymmetric), please read the file `model_utils_quant.py`"
   ]
  },
  {
   "cell_type": "code",
   "execution_count": null,
   "metadata": {},
   "outputs": [],
   "source": [
    "import os\n",
    "os.environ['TF_CPP_MIN_LOG_LEVEL'] = '2' \n",
    "import random\n",
    "random.seed(42)\n",
    "import tensorflow as tf\n",
    "gpus = tf.config.list_physical_devices('GPU')\n",
    "if gpus:\n",
    "    try: tf.config.experimental.set_memory_growth(gpus[0], True)\n",
    "    except RuntimeError as e:   print(e)\n",
    "\n",
    "import numpy as np\n",
    "import pandas as pd\n",
    "import matplotlib.pyplot as plt\n",
    "import seaborn as sns\n",
    "import regex as re\n",
    "import string\n",
    "import nltk\n",
    "from sklearn.model_selection import train_test_split\n",
    "\n",
    "from tensorflow_text.tools.wordpiece_vocab import bert_vocab_from_dataset\n",
    "import tensorflow_text as tf_text\n",
    "\n",
    "from utils.read_file_utils import *\n",
    "from utils.model_utils_quant import *"
   ]
  },
  {
   "cell_type": "code",
   "execution_count": null,
   "metadata": {},
   "outputs": [],
   "source": [
    "PATH_EN_FILE_TRAIN = r\"data/processed_data/en_sent_train.txt\"\n",
    "PATH_VI_FILE_TRAIN = r\"data/processed_data/vi_sent_train.txt\"\n",
    "\n",
    "PATH_EN_FILE_TEST = r\"data/processed_data/en_sent_test.txt\"\n",
    "PATH_VI_FILE_TEST = r\"data/processed_data/vi_sent_test.txt\"\n",
    "\n",
    "PATH_TOKENIZER = r\"data/tokeninzer_en_vi_converter\"\n",
    "\n",
    "MAX_TOKENS = 128\n",
    "\n",
    "N_samples = None"
   ]
  },
  {
   "cell_type": "markdown",
   "metadata": {},
   "source": [
    "# 1. Data handling\n",
    "\n",
    "- First, we need to download the dataset."
   ]
  },
  {
   "cell_type": "code",
   "execution_count": null,
   "metadata": {},
   "outputs": [],
   "source": [
    "list_en_sentence_train = read_text_file(PATH_EN_FILE_TRAIN)\n",
    "list_en_sentence_train = np.array(list_en_sentence_train)\n",
    "list_vi_sentence_train = read_text_file(PATH_VI_FILE_TRAIN)\n",
    "list_vi_sentence_train = np.array(list_vi_sentence_train)\n",
    "\n",
    "list_en_sentence_val = read_text_file(PATH_EN_FILE_TEST)\n",
    "list_en_sentence_val = np.array(list_en_sentence_val)\n",
    "list_vi_sentence_val = read_text_file(PATH_VI_FILE_TEST)\n",
    "list_vi_sentence_val = np.array(list_vi_sentence_val)\n",
    "\n",
    "if N_samples is not None:\n",
    "    random_indices = np.random.choice(len(list_en_sentence_train), size=N_samples, replace=False)\n",
    "    list_en_sentence_train = list_en_sentence_train[random_indices]\n",
    "    list_vi_sentence_train = list_vi_sentence_train[random_indices]\n",
    "\n",
    "    random_indices = np.random.choice(len(list_en_sentence_val), size=N_samples, replace=False)\n",
    "    list_en_sentence_val = list_en_sentence_val[random_indices]\n",
    "    list_vi_sentence_val = list_vi_sentence_val[random_indices]\n",
    "\n",
    "assert len(list_en_sentence_train) == len(list_vi_sentence_train)\n",
    "assert len(list_en_sentence_val) == len(list_vi_sentence_val)\n",
    "\n",
    "print(f\"Number of training sample: {len(list_en_sentence_train)}\")\n",
    "print(f\"Number of validation sample: {len(list_en_sentence_val)}\")"
   ]
  },
  {
   "cell_type": "code",
   "execution_count": null,
   "metadata": {},
   "outputs": [],
   "source": [
    "train_examples = tf.data.Dataset.from_tensor_slices((list_en_sentence_train, list_vi_sentence_train))\n",
    "val_examples = tf.data.Dataset.from_tensor_slices((list_en_sentence_val, list_vi_sentence_val))"
   ]
  },
  {
   "cell_type": "code",
   "execution_count": null,
   "metadata": {},
   "outputs": [],
   "source": [
    "for en_examples, vi_examples in train_examples.batch(3).take(1):\n",
    "    print('> Examples in English:')\n",
    "    for en in en_examples.numpy():\n",
    "        print(en.decode('utf-8'))\n",
    "    print()\n",
    "\n",
    "    print('> Examples in Vietnamese:')\n",
    "    for vi in vi_examples.numpy():\n",
    "        print(vi.decode('utf-8'))"
   ]
  },
  {
   "cell_type": "markdown",
   "metadata": {},
   "source": [
    "## 1.1. Load tokenizer\n",
    "\n",
    "- We load the pre-train Tokenizer and test it. "
   ]
  },
  {
   "cell_type": "code",
   "execution_count": null,
   "metadata": {},
   "outputs": [],
   "source": [
    "tokenizers = tf.saved_model.load(PATH_TOKENIZER)\n",
    "\n",
    "encoded = tokenizers.vi.tokenize(vi_examples)\n",
    "\n",
    "print('> This is a padded-batch of token IDs:')\n",
    "for row in encoded.to_list():\n",
    "  print(row)"
   ]
  },
  {
   "cell_type": "markdown",
   "metadata": {},
   "source": [
    "- The `detokenize` method can convert these tokens index back to original text "
   ]
  },
  {
   "cell_type": "code",
   "execution_count": null,
   "metadata": {},
   "outputs": [],
   "source": [
    "list_original_sentence = tokenizers.vi.detokenize(encoded)\n",
    "\n",
    "for original_sentence in list_original_sentence.numpy():\n",
    "    print(original_sentence.decode('utf-8'))"
   ]
  },
  {
   "cell_type": "markdown",
   "metadata": {},
   "source": [
    "## 1.2. Set up data pipeline with `tf.data`\n",
    "\n",
    "The following function takes batches of text as input, and converts them to a format suitable for training.\n",
    "\n",
    "- It tokenizes them into ragged batches.\n",
    "- It trims each to be no longer than MAX_TOKENS.\n",
    "- It splits the target (Vietnamese) tokens into inputs and labels. These are shifted by one step so that at each input location the label is the id of the next token.\n",
    "- It converts the RaggedTensors to padded dense Tensors.\n",
    "- It returns an (inputs, labels) pair."
   ]
  },
  {
   "cell_type": "code",
   "execution_count": null,
   "metadata": {},
   "outputs": [],
   "source": [
    "def prepare_batch(en, vi):\n",
    "    \"\"\"\n",
    "    This function take pair of en and vi. Then return suitable format for training\n",
    "    \"\"\"\n",
    "\n",
    "    en = tokenizers.en.tokenize(en)      # Output is ragged.\n",
    "    en = en[:, :MAX_TOKENS]    # Trim to MAX_TOKENS.\n",
    "    en = en.to_tensor()  # Convert to 0-padded dense Tensor\n",
    "\n",
    "    vi = tokenizers.vi.tokenize(vi)\n",
    "    vi = vi[:, :(MAX_TOKENS+1)]\n",
    "    vi_inputs = vi[:, :-1].to_tensor()  # Drop the [END] tokens\n",
    "    vi_labels = vi[:, 1:].to_tensor()   # Drop the [START] tokens\n",
    "\n",
    "    return (en, vi_inputs), vi_labels"
   ]
  },
  {
   "cell_type": "code",
   "execution_count": null,
   "metadata": {},
   "outputs": [],
   "source": [
    "BUFFER_SIZE = 10_000\n",
    "BATCH_SIZE = 200\n",
    "\n",
    "def make_batches(ds):\n",
    "  return (\n",
    "      ds\n",
    "      .shuffle(BUFFER_SIZE)\n",
    "      .batch(BATCH_SIZE)\n",
    "      .map(prepare_batch, tf.data.AUTOTUNE)\n",
    "      .prefetch(buffer_size=tf.data.AUTOTUNE))"
   ]
  },
  {
   "cell_type": "code",
   "execution_count": null,
   "metadata": {},
   "outputs": [],
   "source": [
    "# Create training and validation set batches.\n",
    "train_batches = make_batches(train_examples)\n",
    "val_batches = make_batches(val_examples)"
   ]
  },
  {
   "cell_type": "code",
   "execution_count": null,
   "metadata": {},
   "outputs": [],
   "source": [
    "for (pt, en), en_labels in train_batches.take(1):\n",
    "  break\n",
    "\n",
    "print(pt.shape)\n",
    "print(en.shape)\n",
    "print(en_labels.shape)"
   ]
  },
  {
   "cell_type": "markdown",
   "metadata": {},
   "source": [
    "# 2. Define component"
   ]
  },
  {
   "cell_type": "code",
   "execution_count": null,
   "metadata": {},
   "outputs": [],
   "source": [
    "num_layers = 4\n",
    "d_model = 128\n",
    "dff = 512\n",
    "num_heads = 8\n",
    "dropout_rate = 0.1\n",
    "\n",
    "tf.keras.backend.clear_session()\n",
    "transformer = Transformer(\n",
    "    num_layers=num_layers,\n",
    "    d_model=d_model,\n",
    "    num_heads=num_heads,\n",
    "    dff=dff,\n",
    "    input_vocab_size=tokenizers.en.get_vocab_size().numpy(),\n",
    "    target_vocab_size=tokenizers.vi.get_vocab_size().numpy(),\n",
    "    dropout_rate=dropout_rate)"
   ]
  },
  {
   "cell_type": "markdown",
   "metadata": {},
   "source": [
    "- We can test the output shape of Transformer model.\n",
    "- Then, we can test the output shape of the attention score, which has shape `(batch, heads, target_seq, input_seq)`"
   ]
  },
  {
   "cell_type": "code",
   "execution_count": null,
   "metadata": {},
   "outputs": [],
   "source": [
    "output = transformer((pt, en))\n",
    "\n",
    "print(en.shape)\n",
    "print(pt.shape)\n",
    "print(f\"Output shape: {output.shape}\")"
   ]
  },
  {
   "cell_type": "code",
   "execution_count": null,
   "metadata": {},
   "outputs": [],
   "source": [
    "transformer.summary()"
   ]
  },
  {
   "cell_type": "code",
   "execution_count": null,
   "metadata": {},
   "outputs": [],
   "source": [
    "for layer in transformer.encoder.submodules:\n",
    "    if isinstance(layer, Custom_Quantization_MultiHeadAttention):\n",
    "        print(layer.count_params())"
   ]
  },
  {
   "cell_type": "markdown",
   "metadata": {},
   "source": [
    "# 3. Training"
   ]
  },
  {
   "cell_type": "markdown",
   "metadata": {},
   "source": [
    "## 3.1. Custom optimizer"
   ]
  },
  {
   "cell_type": "code",
   "execution_count": null,
   "metadata": {},
   "outputs": [],
   "source": [
    "class CustomSchedule(tf.keras.optimizers.schedules.LearningRateSchedule):\n",
    "  def __init__(self, d_model, warmup_steps=4000):\n",
    "    super().__init__()\n",
    "\n",
    "    self.d_model = d_model\n",
    "    self.d_model = tf.cast(self.d_model, tf.float32)\n",
    "\n",
    "    self.warmup_steps = warmup_steps\n",
    "\n",
    "  def __call__(self, step):\n",
    "    step = tf.cast(step, dtype=tf.float32)\n",
    "    arg1 = tf.math.rsqrt(step)\n",
    "    arg2 = step * (self.warmup_steps ** -1.5)\n",
    "\n",
    "    return tf.math.rsqrt(self.d_model) * tf.math.minimum(arg1, arg2)\n",
    "  \n",
    "\n",
    "learning_rate = CustomSchedule(d_model)\n",
    "\n",
    "optimizer = tf.keras.optimizers.Adam(learning_rate, beta_1=0.9, beta_2=0.98, epsilon=1e-9)"
   ]
  },
  {
   "cell_type": "markdown",
   "metadata": {},
   "source": [
    "## 3.2. Loss and metrics\n",
    "\n",
    "- Since the target sequences are padded, it is important to apply a padding mask when calculating the loss. \n",
    "- In other word, we will remove the padding 0 when calculating the mask. That mean the padding 0 will not affect the loss value."
   ]
  },
  {
   "cell_type": "code",
   "execution_count": null,
   "metadata": {},
   "outputs": [],
   "source": [
    "def masked_loss(label, pred):\n",
    "  mask = label != 0\n",
    "  loss_object = tf.keras.losses.SparseCategoricalCrossentropy(\n",
    "    from_logits=True, reduction='none')\n",
    "  loss = loss_object(label, pred)\n",
    "\n",
    "  mask = tf.cast(mask, dtype=loss.dtype)\n",
    "  loss *= mask\n",
    "\n",
    "  loss = tf.reduce_sum(loss)/tf.reduce_sum(mask)\n",
    "  return loss\n",
    "\n",
    "\n",
    "def masked_accuracy(label, pred):\n",
    "  pred = tf.argmax(pred, axis=2)\n",
    "  label = tf.cast(label, pred.dtype)\n",
    "  match = label == pred\n",
    "\n",
    "  mask = label != 0\n",
    "\n",
    "  match = match & mask\n",
    "\n",
    "  match = tf.cast(match, dtype=tf.float32)\n",
    "  mask = tf.cast(mask, dtype=tf.float32)\n",
    "  return tf.reduce_sum(match)/tf.reduce_sum(mask)"
   ]
  },
  {
   "cell_type": "markdown",
   "metadata": {},
   "source": [
    "## 3.3. Custom Quatization Callback"
   ]
  },
  {
   "cell_type": "code",
   "execution_count": null,
   "metadata": {},
   "outputs": [],
   "source": [
    "class Post_Quantization_Callback(tf.keras.callbacks.Callback):\n",
    "    def __init__(self):\n",
    "        super(Post_Quantization_Callback, self).__init__()\n",
    "\n",
    "    def on_train_end(self, logs=None):\n",
    "        self.quantization_layer()\n",
    "\n",
    "    def quantization_layer(self):\n",
    "        for layer in self.model.encoder.submodules:\n",
    "            if isinstance(layer, Custom_Quantization_MultiHeadAttention):\n",
    "                layer.post_training_quantization()\n",
    "\n",
    "        for layer in self.model.decoder.submodules:\n",
    "            if isinstance(layer, Custom_Quantization_MultiHeadAttention):  \n",
    "                layer.post_training_quantization()"
   ]
  },
  {
   "cell_type": "markdown",
   "metadata": {},
   "source": [
    "## 3.3. Training"
   ]
  },
  {
   "cell_type": "code",
   "execution_count": null,
   "metadata": {},
   "outputs": [],
   "source": [
    "transformer.compile(\n",
    "    loss=masked_loss,\n",
    "    optimizer=optimizer,\n",
    "    metrics=[masked_accuracy])\n",
    "\n",
    "\n",
    "callbacks = [\n",
    "    Post_Quantization_Callback()\n",
    "]"
   ]
  },
  {
   "cell_type": "code",
   "execution_count": null,
   "metadata": {},
   "outputs": [],
   "source": [
    "EPOCHS = 10\n",
    "transformer.fit(train_batches,\n",
    "                epochs=EPOCHS,\n",
    "                validation_data=val_batches,\n",
    "                callbacks=callbacks\n",
    "                )"
   ]
  },
  {
   "cell_type": "code",
   "execution_count": null,
   "metadata": {},
   "outputs": [],
   "source": [
    "transformer.evaluate(val_batches)\n",
    "print()\n",
    "\n",
    "transformer.summary()"
   ]
  },
  {
   "cell_type": "markdown",
   "metadata": {},
   "source": [
    "# 4. Inference\n",
    "\n",
    "The following steps are used for inference:\n",
    "- Encode the input sentence using the Vietnamese tokenizer (tokenizers.pt). This is the encoder input.\n",
    "- The decoder input is initialized to the [START] token.\n",
    "- Calculate the padding masks and the look ahead masks.\n",
    "- The decoder then outputs the predictions by looking at the encoder output and its own output (self-attention).\n",
    "- Concatenate the predicted token to the decoder input and pass it to the decoder **AGAIN**.\n",
    "- The process will stop until we get the [END] token or reach the maximum number of token."
   ]
  },
  {
   "cell_type": "code",
   "execution_count": null,
   "metadata": {},
   "outputs": [],
   "source": [
    "class Translator(tf.Module):\n",
    "  def __init__(self, tokenizers, transformer):\n",
    "    self.tokenizers = tokenizers\n",
    "    self.transformer = transformer\n",
    "\n",
    "  def __call__(self, sentence, max_length=MAX_TOKENS):\n",
    "\n",
    "    # The input sentence is English, hence adding the `[START]` and `[END]` tokens.\n",
    "    assert isinstance(sentence, tf.Tensor)\n",
    "    if len(sentence.shape) == 0:\n",
    "      sentence = sentence[tf.newaxis]\n",
    "\n",
    "    sentence = self.tokenizers.en.tokenize(sentence).to_tensor()\n",
    "    encoder_input = sentence\n",
    "\n",
    "    # As the output language is Vietnamese, initialize the output with the `[START]` token.\n",
    "    start_end = self.tokenizers.vi.tokenize([''])[0]\n",
    "    start = start_end[0][tf.newaxis]\n",
    "    end = start_end[1][tf.newaxis]\n",
    "\n",
    "    # Define the output_array with [START] token\n",
    "    # `tf.TensorArray` is required here, so that the dynamic-loop can be traced by `tf.function`.\n",
    "    output_array = tf.TensorArray(dtype=tf.int64, size=0, dynamic_size=True)\n",
    "    output_array = output_array.write(0, start)\n",
    "\n",
    "    for i in tf.range(max_length):\n",
    "      output = tf.transpose(output_array.stack())\n",
    "      predictions = self.transformer([encoder_input, output], training=False)\n",
    "\n",
    "      # Select the last token from the `seq_len` dimension.\n",
    "      predictions = predictions[:, -1:, :]  # Shape `(batch_size, 1, vocab_size)`.\n",
    "\n",
    "      predicted_id = tf.argmax(predictions, axis=-1)\n",
    "\n",
    "      # Concatenate the `predicted_id` to the output which is given to the decoder as its input.\n",
    "      output_array = output_array.write(i+1, predicted_id[0])\n",
    "\n",
    "      if predicted_id == end:\n",
    "        break\n",
    "\n",
    "    output = tf.transpose(output_array.stack()) # Shape (1, tokens)\n",
    "    \n",
    "    # We get the predicted output and corresponding token\n",
    "    text = tokenizers.vi.detokenize(output)[0]  # Shape: `()`.\n",
    "    tokens = tokenizers.vi.lookup(output)[0]\n",
    "\n",
    "    return text, tokens"
   ]
  },
  {
   "cell_type": "code",
   "execution_count": null,
   "metadata": {},
   "outputs": [],
   "source": [
    "translator = Translator(tokenizers, transformer)"
   ]
  },
  {
   "cell_type": "code",
   "execution_count": null,
   "metadata": {},
   "outputs": [],
   "source": [
    "sentence = 'Ha Noi is the beautiful country.'\n",
    "\n",
    "translated_text, translated_tokens = translator(tf.constant(sentence))\n",
    "print(translated_text.numpy().decode('utf-8'))"
   ]
  },
  {
   "cell_type": "code",
   "execution_count": null,
   "metadata": {},
   "outputs": [],
   "source": []
  }
 ],
 "metadata": {
  "kernelspec": {
   "display_name": "ds_env",
   "language": "python",
   "name": "python3"
  },
  "language_info": {
   "codemirror_mode": {
    "name": "ipython",
    "version": 3
   },
   "file_extension": ".py",
   "mimetype": "text/x-python",
   "name": "python",
   "nbconvert_exporter": "python",
   "pygments_lexer": "ipython3",
   "version": "3.10.13"
  }
 },
 "nbformat": 4,
 "nbformat_minor": 2
}
